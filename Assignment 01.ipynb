{
 "cells": [
  {
   "cell_type": "markdown",
   "metadata": {},
   "source": [
    "<img src=\"http://cfs22.simplicdn.net/ice9/new_logo.svgz \"/>\n",
    "\n",
    "# Assignment 01: Evaluate the GDP Dataset\n",
    "\n",
    "*The comments/sections provided are your cues to perform the assignment. You don't need to limit yourself to the number of rows/cells provided. You can add additional rows in each section to add more lines of code.*\n",
    "\n",
    "*If at any point in time you need help on solving this assignment, view our demo video to understand the different steps of the code.*\n",
    "\n",
    "**Happy coding!**\n",
    "\n",
    "* * *"
   ]
  },
  {
   "cell_type": "markdown",
   "metadata": {},
   "source": [
    "#### 1: View and add the dataset"
   ]
  },
  {
   "cell_type": "code",
   "execution_count": 40,
   "metadata": {},
   "outputs": [],
   "source": [
    "#Import required library\n",
    "import pandas as pd\n",
    "import numpy as np\n",
    "\n",
    "\n"
   ]
  },
  {
   "cell_type": "code",
   "execution_count": 43,
   "metadata": {},
   "outputs": [],
   "source": [
    "#Manually add the dataset\n",
    "countries = np.array(['Algeria','Angola','Argentina','Australia','Austria','Bahamas','Bangladesh','Belarus','Belgium','Bhutan','Brazil','Bulgaria','Cambodia','Cameroon','Chile','China','Colombia','Cyprus','Denmark','El Salvador','Estonia','Ethiopia','Fiji','Finland','France','Georgia','Ghana','Grenada','Guinea','Haiti','Honduras','Hungary','India','Indonesia','Ireland','Italy','Japan','Kenya', 'South Korea','Liberia','Malaysia','Mexico', 'Morocco','Nepal','New Zealand','Norway','Pakistan', 'Peru','Qatar','Russia','Singapore','South Africa','Spain','Sweden','Switzerland','Thailand', 'United Arab Emirates','United Kingdom','United States','Uruguay','Venezuela','Vietnam','Zimbabwe'\n",
    "])\n",
    "\n",
    "gdp_values = np.array([2255.225482,629.9553062,11601.63022,25306.82494,27266.40335,19466.99052,588.3691778,2890.345675,24733.62696,1445.760002,4803.398244,2618.876037,590.4521124,665.7982328,7122.938458,2639.54156,3362.4656,15378.16704,30860.12808,2579.115607,6525.541272,229.6769525,2242.689259,27570.4852,23016.84778,1334.646773,402.6953275,6047.200797,394.1156638,385.5793827,1414.072488,5745.981529,837.7464011,1206.991065,27715.52837,18937.24998,39578.07441,478.2194906,16684.21278,279.2204061,5345.213415,6288.25324,1908.304416,274.8728621,14646.42094,40034.85063,672.1547506,3359.517402,36152.66676,3054.727742,33529.83052,3825.093781,15428.32098,33630.24604,39170.41371,2699.123242,21058.43643,28272.40661,37691.02733,9581.05659,5671.912202,757.4009286,347.7456605])\n",
    "\n"
   ]
  },
  {
   "cell_type": "markdown",
   "metadata": {
    "collapsed": true
   },
   "source": [
    "#### 2: Find and print the name of the country with the highest GDP"
   ]
  },
  {
   "cell_type": "code",
   "execution_count": 49,
   "metadata": {},
   "outputs": [
    {
     "data": {
      "text/plain": [
       "45"
      ]
     },
     "execution_count": 49,
     "metadata": {},
     "output_type": "execute_result"
    }
   ],
   "source": [
    "#Use the argmax() method to find the highest GDP\n",
    "max_gdp_countries = gdp_values.argmax()\n",
    "max_gdp_countries\n",
    "\n"
   ]
  },
  {
   "cell_type": "code",
   "execution_count": 48,
   "metadata": {},
   "outputs": [
    {
     "data": {
      "text/plain": [
       "21"
      ]
     },
     "execution_count": 48,
     "metadata": {},
     "output_type": "execute_result"
    }
   ],
   "source": [
    "#Print the name of the country\n",
    "country_with_max_cap = countries[max_gdp_countries]\n",
    "country_with_max_cap\n"
   ]
  },
  {
   "cell_type": "markdown",
   "metadata": {},
   "source": [
    "#### 3: Find and print the name of the country with the lowest GDP"
   ]
  },
  {
   "cell_type": "code",
   "execution_count": 50,
   "metadata": {},
   "outputs": [
    {
     "data": {
      "text/plain": [
       "21"
      ]
     },
     "execution_count": 50,
     "metadata": {},
     "output_type": "execute_result"
    }
   ],
   "source": [
    "#Use the argmin() method to find the lowest GDP\n",
    "min_gdp = gdp_values.argmin()\n",
    "min_gdp\n",
    "\n"
   ]
  },
  {
   "cell_type": "code",
   "execution_count": 51,
   "metadata": {},
   "outputs": [
    {
     "data": {
      "text/plain": [
       "'Ethiopia'"
      ]
     },
     "execution_count": 51,
     "metadata": {},
     "output_type": "execute_result"
    }
   ],
   "source": [
    "#Print the name of the country\n",
    "country_with_min_per_cap = countries[min_gdp]\n",
    "country_with_min_per_cap\n",
    "\n"
   ]
  },
  {
   "cell_type": "markdown",
   "metadata": {},
   "source": [
    "#### 4: Print out text ('evaluating country') and input value ('country name') iteratively"
   ]
  },
  {
   "cell_type": "code",
   "execution_count": 52,
   "metadata": {},
   "outputs": [
    {
     "name": "stdout",
     "output_type": "stream",
     "text": [
      "evaulating countryAlgeria\n",
      "evaulating countryAngola\n",
      "evaulating countryArgentina\n",
      "evaulating countryAustralia\n",
      "evaulating countryAustria\n",
      "evaulating countryBahamas\n",
      "evaulating countryBangladesh\n",
      "evaulating countryBelarus\n",
      "evaulating countryBelgium\n",
      "evaulating countryBhutan\n",
      "evaulating countryBrazil\n",
      "evaulating countryBulgaria\n",
      "evaulating countryCambodia\n",
      "evaulating countryCameroon\n",
      "evaulating countryChile\n",
      "evaulating countryChina\n",
      "evaulating countryColombia\n",
      "evaulating countryCyprus\n",
      "evaulating countryDenmark\n",
      "evaulating countryEl Salvador\n",
      "evaulating countryEstonia\n",
      "evaulating countryEthiopia\n",
      "evaulating countryFiji\n",
      "evaulating countryFinland\n",
      "evaulating countryFrance\n",
      "evaulating countryGeorgia\n",
      "evaulating countryGhana\n",
      "evaulating countryGrenada\n",
      "evaulating countryGuinea\n",
      "evaulating countryHaiti\n",
      "evaulating countryHonduras\n",
      "evaulating countryHungary\n",
      "evaulating countryIndia\n",
      "evaulating countryIndonesia\n",
      "evaulating countryIreland\n",
      "evaulating countryItaly\n",
      "evaulating countryJapan\n",
      "evaulating countryKenya\n",
      "evaulating countrySouth Korea\n",
      "evaulating countryLiberia\n",
      "evaulating countryMalaysia\n",
      "evaulating countryMexico\n",
      "evaulating countryMorocco\n",
      "evaulating countryNepal\n",
      "evaulating countryNew Zealand\n",
      "evaulating countryNorway\n",
      "evaulating countryPakistan\n",
      "evaulating countryPeru\n",
      "evaulating countryQatar\n",
      "evaulating countryRussia\n",
      "evaulating countrySingapore\n",
      "evaulating countrySouth Africa\n",
      "evaulating countrySpain\n",
      "evaulating countrySweden\n",
      "evaulating countrySwitzerland\n",
      "evaulating countryThailand\n",
      "evaulating countryUnited Arab Emirates\n",
      "evaulating countryUnited Kingdom\n",
      "evaulating countryUnited States\n",
      "evaulating countryUruguay\n",
      "evaulating countryVenezuela\n",
      "evaulating countryVietnam\n",
      "evaulating countryZimbabwe\n"
     ]
    }
   ],
   "source": [
    "#Use a for loop to print the required output\n",
    "for country in countries:\n",
    "    print ('evaulating country{}'.format(country))"
   ]
  },
  {
   "cell_type": "markdown",
   "metadata": {},
   "source": [
    "#### 5: Print out the entire list of the countries with their GDPs"
   ]
  },
  {
   "cell_type": "code",
   "execution_count": 54,
   "metadata": {},
   "outputs": [
    {
     "name": "stdout",
     "output_type": "stream",
     "text": [
      "country Algeria per capital gdp is 2255.225482\n",
      "country Angola per capital gdp is 629.9553062\n",
      "country Argentina per capital gdp is 11601.63022\n",
      "country Australia per capital gdp is 25306.82494\n",
      "country Austria per capital gdp is 27266.40335\n",
      "country Bahamas per capital gdp is 19466.99052\n",
      "country Bangladesh per capital gdp is 588.3691778\n",
      "country Belarus per capital gdp is 2890.345675\n",
      "country Belgium per capital gdp is 24733.62696\n",
      "country Bhutan per capital gdp is 1445.760002\n",
      "country Brazil per capital gdp is 4803.398244\n",
      "country Bulgaria per capital gdp is 2618.876037\n",
      "country Cambodia per capital gdp is 590.4521124\n",
      "country Cameroon per capital gdp is 665.7982328\n",
      "country Chile per capital gdp is 7122.938458\n",
      "country China per capital gdp is 2639.54156\n",
      "country Colombia per capital gdp is 3362.4656\n",
      "country Cyprus per capital gdp is 15378.16704\n",
      "country Denmark per capital gdp is 30860.12808\n",
      "country El Salvador per capital gdp is 2579.115607\n",
      "country Estonia per capital gdp is 6525.541272\n",
      "country Ethiopia per capital gdp is 229.6769525\n",
      "country Fiji per capital gdp is 2242.689259\n",
      "country Finland per capital gdp is 27570.4852\n",
      "country France per capital gdp is 23016.84778\n",
      "country Georgia per capital gdp is 1334.646773\n",
      "country Ghana per capital gdp is 402.6953275\n",
      "country Grenada per capital gdp is 6047.200797\n",
      "country Guinea per capital gdp is 394.1156638\n",
      "country Haiti per capital gdp is 385.5793827\n",
      "country Honduras per capital gdp is 1414.072488\n",
      "country Hungary per capital gdp is 5745.981529\n",
      "country India per capital gdp is 837.7464011\n",
      "country Indonesia per capital gdp is 1206.991065\n",
      "country Ireland per capital gdp is 27715.52837\n",
      "country Italy per capital gdp is 18937.24998\n",
      "country Japan per capital gdp is 39578.07441\n",
      "country Kenya per capital gdp is 478.2194906\n",
      "country South Korea per capital gdp is 16684.21278\n",
      "country Liberia per capital gdp is 279.2204061\n",
      "country Malaysia per capital gdp is 5345.213415\n",
      "country Mexico per capital gdp is 6288.25324\n",
      "country Morocco per capital gdp is 1908.304416\n",
      "country Nepal per capital gdp is 274.8728621\n",
      "country New Zealand per capital gdp is 14646.42094\n",
      "country Norway per capital gdp is 40034.85063\n",
      "country Pakistan per capital gdp is 672.1547506\n",
      "country Peru per capital gdp is 3359.517402\n",
      "country Qatar per capital gdp is 36152.66676\n",
      "country Russia per capital gdp is 3054.727742\n",
      "country Singapore per capital gdp is 33529.83052\n",
      "country South Africa per capital gdp is 3825.093781\n",
      "country Spain per capital gdp is 15428.32098\n",
      "country Sweden per capital gdp is 33630.24604\n",
      "country Switzerland per capital gdp is 39170.41371\n",
      "country Thailand per capital gdp is 2699.123242\n",
      "country United Arab Emirates per capital gdp is 21058.43643\n",
      "country United Kingdom per capital gdp is 28272.40661\n",
      "country United States per capital gdp is 37691.02733\n",
      "country Uruguay per capital gdp is 9581.05659\n",
      "country Venezuela per capital gdp is 5671.912202\n",
      "country Vietnam per capital gdp is 757.4009286\n",
      "country Zimbabwe per capital gdp is 347.7456605\n"
     ]
    }
   ],
   "source": [
    "#Use a for loop to print the required list\n",
    "for i in range(len(countries)):\n",
    "    country = countries[i]\n",
    "    country_gdp_per_capital = gdp_values[i]\n",
    "    print('country {} per capital gdp is {}'.format(country,country_gdp_per_capital))\n"
   ]
  },
  {
   "cell_type": "markdown",
   "metadata": {},
   "source": [
    "#### 6: Print the following:\n",
    "1. Highest GPD value\n",
    "2. Lowest GDP value\n",
    "3. Mean GDP value\n",
    "4. Standardized GDP value\n",
    "5. Sum of all the GDPs"
   ]
  },
  {
   "cell_type": "code",
   "execution_count": 56,
   "metadata": {},
   "outputs": [
    {
     "name": "stdout",
     "output_type": "stream",
     "text": [
      "40034.85063\n",
      "229.6769525\n",
      "11289.409271639683\n",
      "12743.828910617945\n",
      "711232.7841133\n"
     ]
    }
   ],
   "source": [
    "print(gdp_values.max())\n",
    "print(gdp_values.min())\n",
    "print(gdp_values.mean())\n",
    "print(gdp_values.std())\n",
    "print(gdp_values.sum())"
   ]
  },
  {
   "cell_type": "code",
   "execution_count": null,
   "metadata": {},
   "outputs": [],
   "source": []
  }
 ],
 "metadata": {
  "kernelspec": {
   "display_name": "Python 3 (ipykernel)",
   "language": "python",
   "name": "python3"
  },
  "language_info": {
   "codemirror_mode": {
    "name": "ipython",
    "version": 3
   },
   "file_extension": ".py",
   "mimetype": "text/x-python",
   "name": "python",
   "nbconvert_exporter": "python",
   "pygments_lexer": "ipython3",
   "version": "3.9.7"
  }
 },
 "nbformat": 4,
 "nbformat_minor": 1
}
